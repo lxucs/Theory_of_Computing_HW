{
 "cells": [
  {
   "cell_type": "markdown",
   "metadata": {},
   "source": [
    "# Theory of Computing HW4\n",
    "Student: Liyan Xu"
   ]
  },
  {
   "cell_type": "markdown",
   "metadata": {},
   "source": [
    "#### 2(a). Show a reduction $A_{TM} \\leq_m REGULAR_{TM}$"
   ]
  },
  {
   "cell_type": "markdown",
   "metadata": {},
   "source": [
    "Define the computable function $f$: on input $<M, w>$, where $M$ is a TM and $w$ is a string:\n",
    "1. Construct the following TM $M'$ = on input $x$:\n",
    "    1. If $x$ has the form $0^n 1^n$, accept.\n",
    "    2. If $x$ doesn't have above form, run $M$ on input $w$ and accept if $M$ accepts $w$.\n",
    "2. Output $<M'>$.\n",
    "\n",
    "$<M, w> \\;\\in A_{TM}$:  \n",
    "$\\to M$ accepts $w$  \n",
    "$\\to M'$ accepts $\\Sigma^*$  \n",
    "$\\to L(M')$ is regular language  \n",
    "$\\to  f(<M, w>) = <M'> \\;\\in REGULAR_{TM}$\n",
    "\n",
    "$f(<M, w>) \\in REGULAR_{TM}$  \n",
    "$\\to L(M')$ is regular language  \n",
    "$\\to M'$ must accepts $\\Sigma^*$; otherwise $L(M')$ would accept $\\{0^n 1^n\\}$ which is not regular  \n",
    "$\\to M$ accepts $w$  \n",
    "$<M, w> \\in A_{TM}$\n",
    "\n",
    "Therefore, $<M, w> \\;\\in A_{TM} \\Longleftrightarrow f(<M, w>) \\in REGULAR_{TM}$"
   ]
  },
  {
   "cell_type": "markdown",
   "metadata": {},
   "source": [
    "#### 2(b). Show a reduction $\\overline{A_{TM}} \\leq_m REGULAR_{TM}$ (equivalently, $A_{TM} \\leq_m \\overline{REGULAR_{TM}}$)."
   ]
  },
  {
   "cell_type": "markdown",
   "metadata": {},
   "source": [
    "Define the computable function $f$: on input $<M, w>$, where $M$ is a TM and $w$ is a string:\n",
    "1. Construct the following TM $M'$ = on input $x$:\n",
    "    1. If $x$ has the form $0^n 1^n$, accept.\n",
    "    2. If $x$ doesn't have above form, run $M$ on input $w$ and reject if $M$ accepts $w$.\n",
    "2. Output $<M'>$.\n",
    "\n",
    "$<M, w> \\;\\in A_{TM}$:  \n",
    "$\\to M$ accepts $w$  \n",
    "$\\to M'$ accepts $\\{0^n 1^n\\}$ but not $\\Sigma^*$  \n",
    "$\\to L(M')$ is not regular language  \n",
    "$\\to  f(<M, w>) = <M'> \\;\\notin REGULAR_{TM}$  \n",
    "$\\to  f(<M, w>) = <M'> \\;\\in \\overline{REGULAR_{TM}}$\n",
    "\n",
    "$f(<M, w>) \\in \\overline{REGULAR_{TM}}$  \n",
    "$\\to L(M')$ is not regular language  \n",
    "$\\to M'$ must only accepts $\\{0^n 1^n\\}$; otherwise $L(M')$ would accept $\\Sigma^*$ which is regular  \n",
    "$\\to M$ accepts $w$  \n",
    "$<M, w> \\in A_{TM}$\n",
    "\n",
    "Therefore, $<M, w> \\;\\in A_{TM} \\Longleftrightarrow f(<M, w>) \\in \\overline{REGULAR_{TM}}$"
   ]
  },
  {
   "cell_type": "markdown",
   "metadata": {},
   "source": [
    "#### 2(c). Review: which part ((a) or (b)?) implies $REGULAR_{TM}$ is not recognizable, and which part implies it is not co-recognizable?"
   ]
  },
  {
   "cell_type": "markdown",
   "metadata": {},
   "source": [
    "Part (a) implies $REGULAR_{TM}$ is not co-recognizable, because $A_{TM}$ is not co-recognizable.  \n",
    "Part (b) implies $REGULAR_{TM}$ is not recognizable, because $\\overline{A_{TM}}$ is not recognizable."
   ]
  },
  {
   "cell_type": "markdown",
   "metadata": {},
   "source": [
    "#### 4. In Chapter 4, we saw that $A_{TM}$ is recognizable but not decidable. We may assume it is encoded in binary, so $A_{TM} \\subseteq \\{0,1\\}^∗$. Using that, argue that some unary language $L \\subseteq \\{1\\}^∗$ is recognizable but not decidable. (Hint: first find a computable “one-to-one correspondence” from $\\{1\\}^∗$ to $\\{0,1\\}^∗$, sending each unary string $\\{1^n\\}$ to some binary string $s_n$, and then use that to define your language $L$.)"
   ]
  },
  {
   "cell_type": "markdown",
   "metadata": {},
   "source": [
    "Define the computable bijective mapping $f$ as follows:\n",
    "* For any $1^k \\in \\{1\\}^*$, let $s'$ be the simplest binary encoding of $k+1$ ($s'$ starts with $1$), let $s$ be the binary string after stripping the leftmost $1$ from $s'$. Output $s$ ($s$ can be $\\epsilon$).\n",
    "* For any $1^p \\neq 1^q$, $f(1^p) \\neq f(1^q)$ because the binary encoding of $p$ and $q$ will be different, therefore it is bijective.\n",
    "The mapping would be:\n",
    "$$\\epsilon \\leftrightarrow \\epsilon\\\\\n",
    "1 \\leftrightarrow 0\\\\\n",
    "11 \\leftrightarrow 1\\\\\n",
    "111 \\leftrightarrow 00\\\\\n",
    "1111 \\leftrightarrow 01\\\\\n",
    "11111 \\leftrightarrow 10\\\\\n",
    "111111 \\leftrightarrow 11\\\\\n",
    "...$$\n",
    "\n",
    "Define $L = \\{1^k: f(1^k) \\in A_{TM}\\} \\subseteq \\{1\\}^∗$. Because $A_{TM}$ is recognizable but not decidable, $L$ is also recognizable but not decidable."
   ]
  },
  {
   "cell_type": "markdown",
   "metadata": {},
   "source": [
    "#### 5. Textbook 5.21. Furthermore, try to determine whether the language is recognizable or co-recognizable."
   ]
  },
  {
   "cell_type": "markdown",
   "metadata": {},
   "source": [
    "Use the reduction hint from textbook. Let $i_1, ..., i_k$ be the index of tiles for any match in P.\n",
    "\n",
    "P has a match $\\Longrightarrow$ G is ambiguous: if there is a match in P, then $t_{i_1} ... t_{i_k} = b_{i_1} ... b_{i_k}$; therefore, $T$ and $B$ essentially have the same rules; therefore, for any generated string by G, there will be two derivations from $T$ and $B$; therefore G is ambiguous.\n",
    "\n",
    "G is ambiguous $\\Longrightarrow$ P has a match: for any string $s$ generated by G, it must have the form $s = s'a_{j_1} ... a_{j_k}$ where $s'$ doesn't contain $a$ values. If G is ambiguous, then there are multiple derivations for $s'$: one by $T$ and one by $B$. Because $T$ and $B$ have the same rules except that they use different variables $t_i$ and $b_i$, to generate the same suffix $a_{j_1} ... a_{j_k}$, $s' = t_{j_k} ... t_{j_1}$ must be equal to $s' = b_{j_k} ... b_{j_1}$. Therefore, there is a match in P.\n",
    "\n",
    "Therefore, PCP $\\leq_m AMBIG_{CFG}$. Because PCP is not decidable, $AMBIG_{CFG}$ is not decidable.\n",
    "\n",
    "$AMBIG_{CFG}$ is recognizable because we can build a TM that enumerates every possible derivation given input $w$ and accept if there are more than one successful derivation.\n",
    "\n",
    "$AMBIG_{CFG}$ is not co-recognizable, because $AMBIG_{CFG}$ is recognizable but not decidable. Otherwise, $AMBIG_{CFG}$ would have been decidable."
   ]
  },
  {
   "cell_type": "markdown",
   "metadata": {},
   "source": [
    "#### 6. Let $A_{TM}′ = \\{<M, w> | M \\text{ is an oracle TM and } M^{A_{TM}} \\text{ accepts } w\\}$. Show that $A_{TM}′$ is undecidable relative to $A_{TM}$."
   ]
  },
  {
   "cell_type": "markdown",
   "metadata": {},
   "source": [
    "Assume $A_{TM}′$ is decidable relative to $A_{TM}$. Let $D$ be its decider. Construct a new TM $D'$: on input $<M>$,\n",
    "1. If $<M>$ is not a description of TM with oracle of $A_{TM}$, reject.\n",
    "2. Run $D$ on input $<M, <M>>$.\n",
    "3. Output the opposite of what $D$ outputs.\n",
    "\n",
    "$D$ accepts $<D>$ when $D$ rejects $<D>$, which is a contradiction. Therefore, $D$ cannot exist; $A_{TM}′$ is undecidable relative to $A_{TM}$."
   ]
  },
  {
   "cell_type": "markdown",
   "metadata": {},
   "source": [
    "#### 7. Suppose we have an oracle for $A_{TM}$. On input $x ∈ \\{0,1\\}^∗$, I’ll explain how to compute $k = K(x)$ using $O(2^k)$ oracle calls. Show how to do it with only $O(k)$ oracle calls."
   ]
  },
  {
   "cell_type": "markdown",
   "metadata": {},
   "source": [
    "Define a TM $M'$: on input $<k>$,\n",
    "1. Construct the finite set $S = \\{s| s\\in \\{0,1\\}^k\\}$, where $S$ is the set of all strings with length $k$.\n",
    "2. For each $s \\in S$, parse $s$ as $<M>w$, and run $M$ on $w$ in parallel.\n",
    "3. If eventually any halted $M$ has output $x$, accept.\n",
    "\n",
    "Therefore, $M'$ accepts $<k>$ if $K(x) \\leq k$.\n",
    "\n",
    "To determine $K(x)$, we can perform a linear search:  \n",
    "For $k = 1, 2, 3, ...$:  \n",
    "* Ask oracle for $A_{TM}$ on input $<M', k>$.  \n",
    "* If accept, return $k$; if reject, continue.\n",
    "\n",
    "The returned $k$ is $K(x)$, and the number of oracle calls is $O(k)$."
   ]
  }
 ],
 "metadata": {
  "kernelspec": {
   "display_name": "Python 3",
   "language": "python",
   "name": "python3"
  },
  "language_info": {
   "codemirror_mode": {
    "name": "ipython",
    "version": 3
   },
   "file_extension": ".py",
   "mimetype": "text/x-python",
   "name": "python",
   "nbconvert_exporter": "python",
   "pygments_lexer": "ipython3",
   "version": "3.6.6"
  }
 },
 "nbformat": 4,
 "nbformat_minor": 2
}
