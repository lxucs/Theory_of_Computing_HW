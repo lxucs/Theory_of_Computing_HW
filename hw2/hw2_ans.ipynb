{
 "cells": [
  {
   "cell_type": "markdown",
   "metadata": {},
   "source": [
    "# Theory of Computing HW2\n",
    "#### Student: Liyan Xu"
   ]
  },
  {
   "cell_type": "markdown",
   "metadata": {},
   "source": [
    "#### P4. Convert the following grammar to Chomsky Normal Form (CNF), using the process described by Sipser. Show at least the following: (1) the grammar after you have fixed the start symbol and eliminated ε-rules, (2) the grammar after you have also eliminated unit rules, and (3) the final CNF grammar."
   ]
  },
  {
   "cell_type": "markdown",
   "metadata": {},
   "source": [
    "(1)\n",
    "\n",
    "$\n",
    "S_0 \\to S | \\varepsilon \\\\\n",
    "S \\to aSA | AB | aB | B | aS | A | a | aA \\\\\n",
    "A \\to abb \\\\\n",
    "B \\to bbA | AA | bb | A\n",
    "$\n",
    "\n",
    "(2)\n",
    "\n",
    "$\n",
    "s_0 \\to \\varepsilon \\\\\n",
    "S \\to aSA | AB | aB | aS | a | aA | abb | bbA | AA | bb \\\\\n",
    "A \\to abb \\\\\n",
    "B \\to bbA | AA | bb | abb\n",
    "$\n",
    "\n",
    "(3)\n",
    "\n",
    "$\n",
    "S_0 \\to \\varepsilon \\\\\n",
    "S \\to U_1 A_1 | AB | U_1 B | U_1 S | U_1 A | U_1 A_2 | U_2 A_3 | AA | U_2 U_2 | a \\\\\n",
    "A_1 \\to SA \\\\\n",
    "A_2 \\to U_2 U_2 \\\\\n",
    "A_3 \\to U_2 A \\\\\n",
    "U_1 \\to a \\\\\n",
    "U_2 \\to b\n",
    "$"
   ]
  },
  {
   "cell_type": "markdown",
   "metadata": {},
   "source": [
    "#### P5. Consider the language F in Exercise 1.54 (page 91). Argue that it is not regular, and find a winning strategy for R, in the regular pumping game for F. (Remark: this shows the converse of Pumping Claim 1 is false.)"
   ]
  },
  {
   "cell_type": "markdown",
   "metadata": {},
   "source": [
    "F is not regular.  \n",
    "Lemma (proved in HW1 P6): suppose $L$, $S \\subseteq \\Sigma^*$. Suppose that for every pair of distinct strings $x$ and $y$ in $S$, there is a distinguishing $z$ (in other words, $x$ and $y$ are not $L$-equivalent). Then any DFA for $L$ has at least $|S|$ states.  \n",
    "Proof:\n",
    "1. Let $S =\\{ a b^i | i \\geq 0 \\}$. For every pair of strings $x, y \\in S$, there exists a string $z$ that distinguishes $x, y$.\n",
    "    * Proof: for any pair of distinct strings $x = ab^i, y = ab^j$ ($i \\neq j$), let $z = c^k$ where $k = \\max (i, j).$ If $k = i$, then $xz \\in F$ and $yz \\notin F$; if $k = j$, then $xz \\notin F$ and $yz \\in F$. Therefore, for any pairs of distinct strings $x, y$, there exists a distinguishing string $z$ such that exactly one of $x, y$ is in $F$.\n",
    "2. $|S| = \\infty$ because the choice of $i$ in $S$ is infinite. According to the lemma, any DFA for $F$ has at least $|S|$ states, which means any DFA for $F$ needs to have infinite states, therefore no such DFA for $F$ exsits; therefore, $F$ is not regular.\n",
    "\n",
    "Winning strategy for R:\n",
    "1. R can choose any integer $p \\geq 2$.\n",
    "2. N chooses a string $s \\in F$ such that $|s| \\geq p$.\n",
    "3. R chooses $x, y, z$ such that $s = xyz$. Let $x = \\epsilon$; $y$ be $aa$ if $s$ has the form $\\{ aa b^m c^n \\}$, otherwise be the first letter of $s$; $z$ be the remaining string. Therefore, $|xy| \\leq 2 \\leq p$; $|y| \\geq 1 > 0$.\n",
    "4. For whatever $i$ that N chooses, $x y^i z$ will always $\\in F$; therefore, R can always win. Proof:\n",
    "    1. If $y = aa$, $s$ has the following form: $\\{ aa b^m c^n \\}$. Therefore, the pumping string $s' = x y^i z$ has the following forms: $\\{ a^{2i} b^m c^n | i \\geq 0 \\}$. According to $F$, because the length of $a$ is not $1$, $s' \\in F$.\n",
    "    2. If $y = a$, $s$ can be one of the following forms: $\\{ a b^m c^m \\}$ or $\\{ a^k b^m c^n | k > 2 \\}$. Therefore, the pumping string $s' = x y^i z$ has one of the following forms: $\\{ a^i b^m c^m | i \\geq 0 \\}$, or $\\{ a^{k+i-1} b^m c^n | i \\geq 0, k > 2 \\} $ which is equivalent to $\\{ a^k b^m c^n | k \\geq 2 \\}$. According to $F$, for either case, $s' \\in F$.\n",
    "    3. If $y = b$, $s$ has the following form: $\\{ b^m c^n | m > 1 \\}$. Therefore, the pumping string $s' = x y^i z$ has the form: $\\{ b^{m+i-1} c^n | i \\geq 0, m > 1 \\}$. According to $F$, $s' \\in F$.\n",
    "    4. If $y = c$, $s$ has the following form: $\\{ c^n | n > 1 \\}$. Therefore, the pumping string $s' = x y^i z$ has the form: $\\{ c^{n+i-1} | i \\geq 0, n > 1 \\}$. According to $F$, $s' \\in F$."
   ]
  },
  {
   "cell_type": "markdown",
   "metadata": {},
   "source": [
    "#### P6(a). Trace out an accepting computation of P on the input x = aabbabaababa. For each step show the input consumed (if any), the resulting state, and the resulting stack."
   ]
  },
  {
   "cell_type": "markdown",
   "metadata": {},
   "source": [
    "![6a](6a.jpeg)"
   ]
  },
  {
   "cell_type": "markdown",
   "metadata": {},
   "source": [
    "#### P6(b). Using the textbook construction, convert the PDA P to a grammar G, with start symbol $A_{14}$. Try to omit all rules from G that are not necessary to generate L(P)."
   ]
  },
  {
   "cell_type": "markdown",
   "metadata": {},
   "source": [
    "CFG:\n",
    "\n",
    "$\n",
    "A_{14} \\to A_{23}  \\\\\n",
    "A_{23} \\to a A_{23} a  \\\\\n",
    "A_{23} \\to a A_{22} b  \\\\\n",
    "A_{33} \\to b A_{22} b  \\\\\n",
    "A_{33} \\to b A_{23} a  \\\\\n",
    "A_{23} \\to A_{23} A_{33}  \\\\\n",
    "A_{22} \\to \\epsilon  \\\\\n",
    "A_{33} \\to \\epsilon  \\\\\n",
    "$"
   ]
  },
  {
   "cell_type": "markdown",
   "metadata": {},
   "source": [
    "#### P6(c). Draw a parse tree for aabbabaababa, corresponding to the computation in the first part."
   ]
  },
  {
   "cell_type": "markdown",
   "metadata": {},
   "source": [
    "<img src=\"6c.jpeg\" alt=\"ans\" width=\"500\"/>"
   ]
  },
  {
   "cell_type": "markdown",
   "metadata": {},
   "source": [
    "#### P7. Let $L = \\{a^i b^j c^k d^l: i=0 \\text{ or } j=k=l\\}$. Consider the context-free pumping game for L."
   ]
  },
  {
   "cell_type": "markdown",
   "metadata": {},
   "source": [
    "#### P7(a). State a winning strategy for C."
   ]
  },
  {
   "cell_type": "markdown",
   "metadata": {},
   "source": [
    "1. C can choose any integer $p \\geq 1$.\n",
    "2. N chooses a string $s \\in L$ such that $|s| \\geq p$.\n",
    "3. C chooses strings $u, v, x, y, z$ such that $s = uvxyz$. Let $u = x = y = \\epsilon$, $v$ be the first letter of $s$, $z$ be the remaining string. Therefore, $|vxy| = 1 \\leq p$, $|vy| = 1 > 0$.\n",
    "4. Whatever integer $m$ that N chooses, $u v^i x y^i z$ is always $\\in L$. Therefore, C always wins. Proof:\n",
    "    1. If $v = a$, s has the following form: $\\{ a^i b^j c^j d^j | i > 0 \\}$. Therefore, the pumping string $s' = u v^i x y^i z$ has the following form: $\\{ a^{m+i-1} b^j c^j d^j | i > 0, m \\geq 0 \\}$ which is equivalent to $\\{ a^i b^j c^j d^j | i \\geq 0\\}$. According to $L$, $s' \\in L$.\n",
    "    2. If $v = b$, s has the following form: $\\{ b^j c^k d^l | j > 0 \\}$. Therefore, the pumping string $s' = u v^i x y^i z$ has the following form: $\\{ b^{m+j-1} c^k d^l | j > 0, m \\geq 0 \\}$ which is equivalent to $\\{ b^j c^k d^l | j \\geq 0 \\}$. According to $L$, $s' \\in L$.\n",
    "    3. If $v = c$, s has the following form: $\\{ c^k d^l | k > 0 \\}$. Therefore, the pumping string $s' = u v^i x y^i z$ has the following form: $\\{ c^{m+k-1} d^l | k > 0, m \\geq 0 \\}$ which is equivalent to $\\{ c^k d^l | k \\geq 0 \\}$. According to $L$, $s' \\in L$.\n",
    "    4. If $v = d$, s has the following form: $\\{ d^l | l > 0 \\}$. Therefore, the pumping string $s' = u v^i x y^i z$ has the following form: $\\{ d^{m+l-1} | l > 0, m \\geq 0 \\}$ which is equivalent to $\\{ d^l | l \\geq 0 \\}$. According to $L$, $s' \\in L$."
   ]
  },
  {
   "cell_type": "markdown",
   "metadata": {},
   "source": [
    "#### P7(b). See “Ogden’s Lemma” on wikipedia. State a “game” version of it. (That is, state a modified version of our context-free puming game, which Ogden’s Lemma says C can win, if L is context-free.)"
   ]
  },
  {
   "cell_type": "markdown",
   "metadata": {},
   "source": [
    "1. C chooses an integer $p \\geq 0$.\n",
    "2. N chooses a string $s \\in L$ such that $|s| \\geq p$, and mark any $q$ positions in $s$ where $q \\geq p$.\n",
    "3. C chooses strings $u, v, x, y, z$ where $s = uvxyz$, such that:\n",
    "    1. $vy$ has at least one marked position.\n",
    "    2. $vxy$ has at most $p$ marked positions.\n",
    "4. N chooses an integer $i \\geq 0$ such that $u v^i x y^i z \\notin L$."
   ]
  },
  {
   "cell_type": "markdown",
   "metadata": {},
   "source": [
    "#### P7(c). Describe a winning strategy for N in your game. (Remark: this shows the converse of Pumping Claim 2 is false.)"
   ]
  },
  {
   "cell_type": "markdown",
   "metadata": {},
   "source": [
    "1. C chooses an integer $p \\geq 0$.\n",
    "2. N chooses the string $s \\in L$: $a b^p c^p d^p$. $|s| = 3p+1 > p$. Mark the last $p$ positions in $s$, so that the first letter $a$ is always not marked.\n",
    "3. C chooses strings $u, v, x, y, z$ where $s = uvxyz$, such that:\n",
    "    1. $vy$ has at least one marked position.\n",
    "    2. $vxy$ has at most $p$ marked positions.\n",
    "4. N can choose the integer $i = 2$, and $u v^i x y^i z \\notin L$. Proof:\n",
    "    1. C cannot choose $v$ or $y$ that involves more than one type of letter. Otherwise, the letter arrangement of the  pumped string will be out of order, so the new string will not be $\\in L$.\n",
    "    2. C cannot choose to pump letter $b$ or $c$ or $d$. Because C can only choose two types of letter, the resulting pumped string will not have equal length of $b, c, d$, and will not be $\\in L$.\n",
    "    3. Therefore, C can only choose to pump the first letter $a$ to keep the resulting string valid. Therefore, C has two potential choices: $v = a$, $y = \\epsilon$; or $v = \\epsilon$, $y = a$. However, because $a$ is not marked, neither choice satisfies the condition: $vy$ has at least one marked position. Therefore, there is no choice that keeps the pumped string in $L$."
   ]
  },
  {
   "cell_type": "markdown",
   "metadata": {},
   "source": [
    "#### P8. Consider the modified version of the regular pumping game. If L is regular, must R’ have a winning strategy? Either prove this is true (by modification of the book argument, pages 78–79), or give a counterexample (a specific regular L, and a winning strategy for N)."
   ]
  },
  {
   "cell_type": "markdown",
   "metadata": {},
   "source": [
    "If L is regular, R' doesn't necessarily havea winning strategy.\n",
    "\n",
    "Counterexample: let regular language $L = \\{ a^m b^n \\}$. The winning strategy for N:\n",
    "1. R' chooses an integer $p \\geq 0$.\n",
    "2. N chooses the string $s \\in F$: $a^{2p} b^{2p}$. $|s| = 4p \\geq p$.\n",
    "3. R' chooses $x, y, z$ where $s = xyz$, such that $|xz| \\leq p$, $|y| > 0$.\n",
    "4. N can choose the integer $i = 2$, and $x y^i z \\notin L$. Proof:\n",
    "    1. R' cannot choose $p = 0$, otherwise $|s| = 0$, so $|y| = 0$ which is not valid.\n",
    "    2. R' cannot choose $y$ that involves both $a$ and $b$. Otherwise, the resulting pumped string will have out of order letters and will not be in $L$.\n",
    "    3. However, R' cannot choose $y$ that only involves $a$ or $b$. Because $\\min |xz| = |s| - \\max |y| = 4p - 2p = 2p > p$ ($p$ cannot be $0$ as argued above), which doesn't satisfiy the condition: $|xz| \\leq p$. Therefore, there is no valid choice that R' can make to keep the pumped string in $L$."
   ]
  }
 ],
 "metadata": {
  "kernelspec": {
   "display_name": "Python 3",
   "language": "python",
   "name": "python3"
  },
  "language_info": {
   "codemirror_mode": {
    "name": "ipython",
    "version": 3
   },
   "file_extension": ".py",
   "mimetype": "text/x-python",
   "name": "python",
   "nbconvert_exporter": "python",
   "pygments_lexer": "ipython3",
   "version": "3.6.6"
  }
 },
 "nbformat": 4,
 "nbformat_minor": 2
}
