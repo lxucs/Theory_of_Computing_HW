{
 "cells": [
  {
   "cell_type": "markdown",
   "metadata": {},
   "source": [
    "# Theory of Computing HW3\n",
    "Student: Liyan Xu"
   ]
  },
  {
   "cell_type": "markdown",
   "metadata": {},
   "source": [
    "#### P2. Suppose M is a Turing machine, and every transition either moves right (R) or stays put (S), but no transition moves left (L). Argue that L(M) is regular. Note these complications: M may halt before reading the entire input, it may take further steps when it sees blanks, and sometimes it may not halt at all."
   ]
  },
  {
   "cell_type": "markdown",
   "metadata": {},
   "source": [
    "First, modify $M$ by putting the constraint that the head must move right unless it is in infinite loop. It still accepts the same language, because if in any state $q_i$, the head stays put and $M$ is not in infinite loop, the head eventually will move right at some state $q_j$ to read the next input symbol; therefore, $M$ can shortcut to $q_j$ directly without affecting the final acceptance.\n",
    "\n",
    "Let $D$ be the DFA of $L(M)$. Let $D$ has the same $Q, \\Sigma^*, q_0$ as $M$, let $F$ be the accept states in $M$. Denote $q_r$ be one of the reject state in $M$. Define the transition function of $D$ as follows:\n",
    "* $\\delta (q, \\sigma) = q$ if $q$ is the accept or reject state in $M$\n",
    "* else if $\\delta (q, \\sigma) = q_r$ when $(q, \\sigma)$ causes $M$ to stay put\n",
    "* else $\\delta (q, \\sigma) = q'$ when $(q, \\sigma)$ causes $M$ to move right and go into state $q'$\n",
    "\n",
    "Proof that $L(D) = L(M)$:\n",
    "* For any string $w \\in L(M)$, the computation path in $D$ follows the same path in $M$ which goes into accept state; therefore, $w$ will be accepted by $D$, $w \\in L(D)$.\n",
    "* For any string $w \\notin L(M)$, the computation path $p$ in $M$ has two cases:\n",
    "    * $p$ ends at reject state in $M$: $p$ will also go into $q_r$ in $D$, therefore $w \\notin L(D)$.\n",
    "    * $p$ ends at infinite loop in $M$: because the modification of $M$, it happens only when the head stays put, which will lead to $q_r$ in $D$, therefore $w$ will not end at accept states in $D$, so $w \\notin L(D)$."
   ]
  },
  {
   "cell_type": "markdown",
   "metadata": {},
   "source": [
    "#### P4. Argue that if language A is recognizable, then so is language A∗. Don’t use nondeterminism in your argument. (You may use multiple tapes, and you may use an “English level” TM description in the style of Sipser.)"
   ]
  },
  {
   "cell_type": "markdown",
   "metadata": {},
   "source": [
    "For any string $w \\in A^*$, there exists $w = w_1 w_2 ... w_k$ so that each $w_i \\in A$, so that each $w_i$ is accepted by the recognizer of $A$. Let $n$ be the length of $w$. There are $2^{n-1}$ ways of splitting which is finite.  \n",
    "To oversome the case when recognizer is in a loop, we can run the recognizer in parallel. Concretely, for each split of $w$, we run the recognizer of $A$ on each substring $w_i$ by one step, and we repeat the process by taking turns of each split of $w$, until all $w_i$ are accepted by the recognizer in a certain split of $w$. This process is guaranteed to halt because there exists a split $w = w_1 w_2 ... w_k$ so that each $w_i$ is accepted by the recognizer. Therefore, $A^*$ is recognizable."
   ]
  },
  {
   "cell_type": "markdown",
   "metadata": {},
   "source": [
    "#### P5. Given a standard Turing machine M, argue that it can be simulated by a FIFO queue automaton S, as described in Problem 3.14. Your S should be deterministic."
   ]
  },
  {
   "cell_type": "markdown",
   "metadata": {},
   "source": [
    "Simulate $S$ using $M$:\n",
    "* Pop: replace the current symbol on the tape with a symbol that is not in the $\\Sigma$ to indicate this symbol is already read.\n",
    "* Push: We can shift all symbols on the tape to the right by 1 position, and insert the new symbol to the right of the left end of the tape.\n",
    "\n",
    "Simulate $M$ using $S$:\n",
    "* $x \\to y, L$: pop $x$ from the queue and push $y$ into the queue\n",
    "* $x \\to y, R$: first, push a symbol $\\sigma$ that is not in the $\\Sigma$ into the queue to indicate the current position; then pop $x$ from the queue and push $y$ into the queue. Because there are finite symbols, we create additional $|\\Sigma^*|$ states and symbols to encode the configuration that combines current symbol and next symbol. Keep popping symbols from the queue and push the new encoded symbols/configurations (which indicate the last and current symbol) iteratively into the queue, until we pop the $\\sigma$, and push only $\\sigma$. We then start to iteratively pop the configuration again from the queue and push the first symbol of the configuration into the queue, until we pop the configuration that indicates the next symbol is $\\sigma$. Now we can go back to the original state and the next symbol in queue is the left symbol on the tape."
   ]
  },
  {
   "cell_type": "markdown",
   "metadata": {},
   "source": [
    "#### P6. Given two languages A, B ⊆ Σ∗, define their “quotient” as the language A/B = {x ∈ Σ∗: ∃y ∈ B, xy ∈ A}. That is, it is the set of strings x, such that for some string y in B, their concatenation xy is in A.\n",
    "#### (a) Show that if A is regular, then so is A/B. (Hint: use a DFA, modify F.)"
   ]
  },
  {
   "cell_type": "markdown",
   "metadata": {},
   "source": [
    "Let $D$ be the DFA of $A$. For each current final state $f \\in F$, we go backwards, such that if any state $q_i$ can be transited to $f$ with $s = a_1 a_2 ... a_k$, and if $s' = a_k ... a_1 \\in B$, we mark $q_i$ as the new final state $f'$, and we ony mark $q_i$ once to avoid infinite loop. The new DFA $D'$ is the original DFA with the new final state set $F' = \\{f'\\}$."
   ]
  },
  {
   "cell_type": "markdown",
   "metadata": {},
   "source": [
    "#### (b) Show that if A and B are recognizable, then so is A/B."
   ]
  },
  {
   "cell_type": "markdown",
   "metadata": {},
   "source": [
    "For any string $x \\in A/B$, We run enumerator $E_A$ of A and $E_B$ of B in parallel. Concretely, we can take turns running $E_A$ and $E_B$ by $t > 0$ steps, so that each time we can get a list of $w_a \\in A$ and $w_b \\in B$ with length $t$. If $A, B$ are recognizable, there must exist $w_a$ and $w_b$ such that $x w_b = w_a$, in which case we accept $x$. If we exhaust the enumeration of $w_a$ and $w_b$, or the process runs infinitely without finding $x w_b = w_a$, we reject $x$."
   ]
  },
  {
   "cell_type": "markdown",
   "metadata": {},
   "source": [
    "#### P7. Let A and B be recognizable languages such that A ∪ B = Σ∗. Show there exists a decidable language C such that B¯ ⊆ C ⊆ A. (Hint: review the proof of Theorem 4.22, which handles the special case when A and B are disjoint. It is hard to define C first, in this problem. Instead, look for its decider. That is, a TM which accepts every input string in A − B, rejects every input string in B − A, and may either accept or reject for input strings in A ∩ B.)"
   ]
  },
  {
   "cell_type": "markdown",
   "metadata": {},
   "source": [
    "Let $M_A$ be the recognizer of $A$, $M_B$ be the recognizer of $B$. For any string $w \\in \\Sigma^* = A \\cup B$, there are three possible cases:\n",
    "* $w \\in A-B$\n",
    "* $w \\in B-A$\n",
    "* $w \\in A \\cap B$\n",
    "\n",
    "In either case, if we run $M_A$ and $M_B$ in parallel, at least one of $M_A$ and $M_B$ will halt and accept.  \n",
    "Define the decider $M_C$ for $C$: for any string $w \\in \\Sigma^*$, we run $M_A$ and $M_B$ in parallel; if $M_A$ accepts first, then accept; if $M_B$ accepts first, then reject.  \n",
    "\n",
    "Proof that $\\bar{B} \\subseteq C \\subseteq A$:\n",
    "* $\\bar{B} \\subseteq C$: for any string $w \\in \\bar{B} = A-B \\subseteq A$, $w$ will be accepted by $M_A$ first (and rejected or in loop by $M_B$), therefore $w$ will be accepted by $M_C$, therefore $w \\in C$.\n",
    "* $C \\subseteq A$: for any string $w$ accepted by $M_C$, $w \\notin B-A$, since if $w \\in B-A$, $W_B$ will accept first and $W_C$ would have rejected $w$. Therefore, $w \\in A$."
   ]
  }
 ],
 "metadata": {
  "kernelspec": {
   "display_name": "Python 3",
   "language": "python",
   "name": "python3"
  },
  "language_info": {
   "codemirror_mode": {
    "name": "ipython",
    "version": 3
   },
   "file_extension": ".py",
   "mimetype": "text/x-python",
   "name": "python",
   "nbconvert_exporter": "python",
   "pygments_lexer": "ipython3",
   "version": "3.6.6"
  }
 },
 "nbformat": 4,
 "nbformat_minor": 2
}
