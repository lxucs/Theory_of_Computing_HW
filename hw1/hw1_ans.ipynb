{
 "cells": [
  {
   "cell_type": "markdown",
   "metadata": {},
   "source": [
    "# Theory of Computing HW1\n",
    "#### Student: Liyan Xu"
   ]
  },
  {
   "cell_type": "markdown",
   "metadata": {},
   "source": [
    "#### P4: Suppose $M$ is a DFA, $p$ and $q$ are states, and $a \\in \\Sigma$ is an input symbol. Argue that if $p \\,R_M \\,q$, then $\\delta(p,a)\\,R_M\\, \\delta(q,a)$. (Advice: it may be easier to argue the contrapositive direction, because then you have a specific distinguishing string $z$.)"
   ]
  },
  {
   "cell_type": "markdown",
   "metadata": {},
   "source": [
    "Contrapositive: if $\\delta(p,a)$ and $\\delta(q,a)$ are distinguishable, then $p$ and $q$ are distinguishable. Proof as following:\n",
    "\n",
    "$\\delta(p,a)$ and $\\delta(q,a)$ are distinguishable  \n",
    "$\\implies$ there exists a string $z$ such that exactly one of $\\delta^* (\\delta(p,a), z)$ and $\\delta^* (\\delta(q,a), z)$ is in $F$  \n",
    "$\\implies$ exactly one of $\\delta^* (p, az)$ and $\\delta^* (q, az)$ is in $F$  \n",
    "$\\implies$ $p$ and $q$ are distinguishable\n",
    "\n",
    "Contrapositive is true; therefore,  if $p \\,R_M \\,q$, then $\\delta(p,a)\\,R_M\\, \\delta(q,a)$."
   ]
  },
  {
   "cell_type": "markdown",
   "metadata": {},
   "source": [
    "#### P5: Suppose $M$ is a DFA, $L = L(M)$, and $x$ and $y$ are strings in $\\Sigma^*$. Argue that if $q_M (x) \\,R_M\\, q_M (y)$, then $x \\,R_L\\, y$. (Advice: like the previous, try the contrapositive.)"
   ]
  },
  {
   "cell_type": "markdown",
   "metadata": {},
   "source": [
    "Contrapositive: if strings $x$ and $y$ are distinguishable, then $q_M (x)$ and $q_M (y)$ are distinguishable. Proof as following:\n",
    "\n",
    "$x$ and $y$ are distinguishable  \n",
    "$\\implies$ there exists a string $z$ such that exactly one of $xz$ and $yz$ is in $L$  \n",
    "$\\implies$ exactly one of $q_M (xz)$ and $q_M (yz)$ is in $F$ (because $xz, yz \\in L$)  \n",
    "$\\implies$ exactly one of $\\delta(q_M (x), z)$ and $\\delta(q_M (y), z)$ is in $F$  \n",
    "$\\implies$ $q_M (x)$ and $q_M (y)$ are distinguishable\n",
    "\n",
    "Contrapositive is true; therefore, if $q_M (x) \\,R_M\\, q_M (y)$, then $x \\,R_L\\, y$. "
   ]
  },
  {
   "cell_type": "markdown",
   "metadata": {},
   "source": [
    "#### P6: Suppose $L$, $S \\subseteq \\Sigma^*$. Suppose that for every pair of distinct strings $x$ and $y$ in $S$, there is a distinguishing $z$ (in other words, $x$ and $y$ are not $L$-equivalent). Argue that any DFA for $L$ has at least $|S|$ states. (Hint: use Problem 5 here.)"
   ]
  },
  {
   "cell_type": "markdown",
   "metadata": {},
   "source": [
    "First, for any distinguishable state $p$ and $q$ of DFA, $p \\neq q$. Prove by contrapositive: if $p = q$, then for any string $z$, $\\delta^* (p, z) = \\delta^* (q, z)$, then $p$ and $q$ are either both in $F$ or both not in $F$, therefore $p$ and $q$ are not distinguishable.\n",
    "\n",
    "for every pair of distinct strings $x$ and $y$ in $S$, $x$ and $y$ are distinguishable  \n",
    "$\\implies$ for every pair of distinct strings $x$ and $y$ in $S$, $\\delta^* (q_0, x)$ and $\\delta^* (q_0, y)$ are distinguishable (by Problem 5)  \n",
    "$\\implies$ for every pair of distinct strings $x$ and $y$ in $S$, $\\delta^* (q_0, x) \\neq \\delta^* (q_0, y)$ (by above proof)  \n",
    "$\\implies$ each string $x_i$ in $S$ has its own distinct state $\\delta^* (q_0, x_i)$ in $L$  \n",
    "$\\implies$ there are at least $|S|$ states in $L$"
   ]
  },
  {
   "cell_type": "markdown",
   "metadata": {},
   "source": [
    "#### P7: Define a “DA” (deterministic automaton) just like Sipser’s DFA, except we allow the state set $Q$ (and its subset $F$) to be infinite. Argue that every language $L$ equals $L(M)$ for some DA $M$. (Try $Q = \\Sigma^*$. For simplicity, you may suppose $\\Sigma = \\{a,b\\}$.)"
   ]
  },
  {
   "cell_type": "markdown",
   "metadata": {},
   "source": [
    "Let $Q = \\Sigma^*$ which can represent any strings; therefore, for any string $s \\in \\Sigma^*$, there will be a corresponding state in $Q$ that represents $s$.  \n",
    "Let $q_0 = \\Sigma^0$ be the initial state which represents the empty string.  \n",
    "For any string $s$ with length $i$ and its corresponding state $q_s$, there will be a transition function $\\delta (q_s, a)$ and $\\delta (q_s, b)$ that connects any string with length $i$ to a string with length $i+1$ by appending a symbol.  \n",
    "The final state is $\\{\\delta^*(q_0, s), s \\in L\\}$, or can be simply expressed by $F = L$, because any string $s \\in L$ can be found in $Q$, and we can mark the corresponding state as final state.  \n",
    "In summary, the DA can be identified by the 5-tuple by using above definition: ($\\Sigma^*$, $\\Sigma$, $\\delta$, $q_0$, $L$)."
   ]
  },
  {
   "cell_type": "markdown",
   "metadata": {},
   "source": [
    "#### P8: A binary string (in $\\{0,1\\}^*$) is odd if it contains an odd number of 1’s. For an integer $k ≥ 1$, let $S_k$ be the language of binary strings whose suffix of length $k$ is odd. (In other words: the string must have length at least $k$, and there are an odd number of 1’s among its last $k$ bits.) For example, $S_2$ contains $01$ and $110$, but not $1$ or $00$ or $111$."
   ]
  },
  {
   "cell_type": "markdown",
   "metadata": {},
   "source": [
    "#### (a) Draw a DFA for $S_2$, try to get it down to 5 states."
   ]
  },
  {
   "cell_type": "markdown",
   "metadata": {},
   "source": [
    "<img src=\"p8.1.jpeg\" alt=\"ans\" width=\"400\"/>"
   ]
  },
  {
   "cell_type": "markdown",
   "metadata": {},
   "source": [
    "#### (b) Argue that any DFA for $S_k$ has at least $2^k$ states."
   ]
  },
  {
   "cell_type": "markdown",
   "metadata": {},
   "source": [
    "Let $S \\in \\Sigma^*$ be $\\{0, 1\\}^k$; prove that for every pair of distinct strings $x$ and $y$ in $S$, $x$ and $y$ are distinguishable for $S_k$:\n",
    "\n",
    "$x, y \\in S$ and distinct  \n",
    "$\\implies$ there exists an index $i \\in [0, k-2]$, such that the suffix strings $x[i:] \\neq y[i:]$ (assuming start index is 0)  \n",
    "$\\implies$ there exists an index $i \\in [0, k-2]$, such that exactly one of $x[i:]$ and $y[i:]$ has odd number of $1$'s  \n",
    "$\\implies$ take string $z = 0^i$; the number of $1$'s in the concatenated strings $x[i:] \\circ z$ and $y[i:] \\circ z$ doesn't change because $z$ are all $0$'s  \n",
    "$\\implies$ exactly one of $x[i:] \\circ z$ and $y[i:] \\circ z$ has odd number of $1$'s  \n",
    "$\\implies$ exactly one of $xz$ and $yz$ has the last $k$ bits with odd number of $1$'s  \n",
    "$\\implies$ $x$ and $y$ are distinguishable for $S_k$\n",
    "\n",
    "Because there are $2^k$ strings in $S$, based on Problem 6, there are $2^k$ states in any DFA for $L$."
   ]
  }
 ],
 "metadata": {
  "kernelspec": {
   "display_name": "Python 3",
   "language": "python",
   "name": "python3"
  },
  "language_info": {
   "codemirror_mode": {
    "name": "ipython",
    "version": 3
   },
   "file_extension": ".py",
   "mimetype": "text/x-python",
   "name": "python",
   "nbconvert_exporter": "python",
   "pygments_lexer": "ipython3",
   "version": "3.6.6"
  }
 },
 "nbformat": 4,
 "nbformat_minor": 2
}
