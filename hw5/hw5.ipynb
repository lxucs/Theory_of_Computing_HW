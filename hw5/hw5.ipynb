{
 "cells": [
  {
   "cell_type": "markdown",
   "metadata": {},
   "source": [
    "# Theory of Computing HW5\n",
    "Student: Liyan Xu"
   ]
  },
  {
   "cell_type": "markdown",
   "metadata": {},
   "source": [
    "#### 2. Let E3SAT be like 3SAT, except each clause must have exactly three literals, without duplicate literals or constants (True or False). Argue E3SAT is NPcomplete."
   ]
  },
  {
   "cell_type": "markdown",
   "metadata": {},
   "source": [
    "1. E3SAT $\\in$ NP. We can guess the variable assignment nondeterministically, and check whether the assignment satisfies the formula in linear time.\n",
    "2. 3SAT $\\leq_p$ E3SAT. The reduction is as follows:\n",
    "    1. Remove duplicates within the same clause in 3SAT formula $\\phi$.\n",
    "    2. If there exists any clause $C$ in the current 3SAT formula that contains fewer than three variables (could be one or two variables), replace $C$ with $(C \\lor x) \\land (C \\lor \\bar{x})$ where $x$ is a new variable that doesn't exist in the current formula.\n",
    "    3. Repeat the above step until all clauses contain three variables. Denote the new formula $\\phi'$.\n",
    "    4. If the decider for E3SAT accepts $\\phi'$, accept $\\phi$; else, reject $\\phi$.\n",
    "    \n",
    "The reduction is polynomial, specifically, $O(m)$ where $m$ is the number of clauses in $\\phi$.\n",
    "\n",
    "3SAT $\\Leftrightarrow$ E3SAT: for any clause $C$ in $\\phi$, $C$ is satisfiable if and only if $(C \\lor x) \\land (C \\lor \\bar{x})$ is satisfiable, no matter $x$ is true or false; therefore, the reduction will not break any variable assignment between $\\phi$ and $\\phi'$."
   ]
  },
  {
   "cell_type": "markdown",
   "metadata": {},
   "source": [
    "#### 3. Suppose there is a constant c > 0, so that no deterministic algorithm for 3SAT runs in time $O(2^{cm})$, where m is the number of clauses in the 3cnf-formula. (This is a conjecture, stronger than P $\\neq$ NP. The hard case is “sparse” formulas, where the number of variables n is a constant fraction of m.) Argue a similar exponential lower bound on the time to decide CLIQUE. (Use c, and the number of vertices V, in your answer.)"
   ]
  },
  {
   "cell_type": "markdown",
   "metadata": {},
   "source": [
    "3SAT $\\leq_p$ CLIQUE. Each vertex in CLIQUE corresponds to a literal in 3SAT. There are $m = \\dfrac{|V|}{3}$ clauses in SAT. Therefore, the lower bound of CLIQUE is $O(2^{c|V|/3})$. Otherwise, if any decider can solve CLIQUE faster than $O(2^{c|V|/3})$, then for any SAT problem, we can perform the polynomial reduction to CLIQUE and solve the CLIQUE faster than $O(2^{c|V|/3})$, which contradicts with the assumption that no deterministic algorithm for 3SAT runs in time $O(2^{cm})$."
   ]
  },
  {
   "cell_type": "markdown",
   "metadata": {},
   "source": [
    "#### 4. Finish the program."
   ]
  },
  {
   "cell_type": "markdown",
   "metadata": {},
   "source": [
    "$M^A = $ \"On input $x$\":\n",
    "1. If $x \\notin A$, reject. //first oracle call\n",
    "2. If we cannot parse $x$ as $<\\phi>$ (a boolean formula), reject.\n",
    "3. Let $n$ be the number of boolean variables in $\\phi$, call them $x_1, ..., x_n$.\n",
    "4. For each variable $x_i$ in $x_1, ..., x_n$:\n",
    "    1. Set $x_i$ to be TRUE and encode the current formula. Call oracle with the encoded formula. If oracle returns true, then the current formula is satisfiable, keep $x_i$ as TRUE; else, the current formula is not satisfiable, then $x_i = FALSE$ must be satisfiable, set $x_i = FALSE$. Keep this formula with the satisfying assignment in the next iteration.\n",
    "5. After step 4, we have a final assignment for each variable so that it satisfies the oracle. Then we can check whether this assignment satisfies the original SAT formula in linear time. If it satisfies, accept; else, reject.\n",
    "\n",
    "$M^A$ satisfies the following three properties:\n",
    "1. $M^A$ runs in polynomial time, and makes $O(n)$ oracle calls: in step 4, we make $n$ oracle calls, and with an additional linear time check.\n",
    "2. If A = SAT, then $L(M^A) = $ SAT: if A = SAT, then step 1 won't reject, and step 4 would accept, since the final assignment would be the actual assignment that satisfies SAT.\n",
    "3. For any choice of A, $L(M^A) \\subseteq $ SAT: all accepted assignment would satisfy the SAT because we do a final check in step 4. Therefore, $L(M^A) \\subseteq $ SAT."
   ]
  },
  {
   "cell_type": "markdown",
   "metadata": {},
   "source": [
    "#### 6(a). Show that FACTORBIT is in NP."
   ]
  },
  {
   "cell_type": "markdown",
   "metadata": {},
   "source": [
    "Guess: guess the prime factors of N.  \n",
    "Check:\n",
    "1. For each prime factor $p_i$, use AKS primality test to decide whether $p_i$ is prime. If any $p_i$ is not prime, reject.\n",
    "2. Take the largest prime factor $p$ and get the binary representation. If $b_k(p) = 1$, accept; else, reject.\n",
    "\n",
    "The check phase runs in polynomial time, since the primality test can be polynomial, and the upper bound of the number of prime factors is polynomial; step 2 also runs in polynomial time."
   ]
  },
  {
   "cell_type": "markdown",
   "metadata": {},
   "source": [
    "#### 6(b). Show that FACTORBIT is in co-NP."
   ]
  },
  {
   "cell_type": "markdown",
   "metadata": {},
   "source": [
    "Guess: guess the prime factors of N.  \n",
    "Check:\n",
    "1. For each prime factor $p_i$, use AKS primality test to decide whether $p_i$ is prime. If any $p_i$ is not prime, reject.\n",
    "2. Take the largest prime factor $p$ and get the binary representation. If $b_k(p) = 0$, accept; else, reject.\n",
    "\n",
    "The check phase runs in polynomial time (same argument as 6(a))."
   ]
  },
  {
   "cell_type": "markdown",
   "metadata": {},
   "source": [
    "#### 6(c). Argue that if FACTORBIT were in P, then we could factor any positive integer N (given in binary) in polynomial time."
   ]
  },
  {
   "cell_type": "markdown",
   "metadata": {},
   "source": [
    "For any positive integer $N$, inilialize the list $L$ of prime factors of $N$ to be empty. Do the following steps:\n",
    "1. Let $K$ be the length of binary form $N$. We can get the largest prime factor of $N$ by calling FACTORBIT($<N, i>$) for i in range 0, ..., K-1 to get the binary representation of the largest prime factor denoted by $p$. Append $p$ to $L$.\n",
    "2. If $p$ is a factor of $N$, set $N = N / p$. Repeat until $p$ is not a factor of $N$.\n",
    "3. If $N = 1$, stop; else, repeat from step 1.\n",
    "\n",
    "The final list $L$ contains all prime factors of $N$. This runs in polynomial time, since step 1 or 2 runs in polynomial time (if FACTORBIT were in P), and the number of prime factors is polynomial (sublinear) regarding $N$."
   ]
  },
  {
   "cell_type": "markdown",
   "metadata": {},
   "source": [
    "#### 7. With this modified definition, what class of languages do we get, instead of NP? "
   ]
  },
  {
   "cell_type": "markdown",
   "metadata": {},
   "source": [
    "We get the recognizable language. We can design $V$ as a TM that checks whether $<c>$ is an accepting computational history of $w$. In the guess phase, we can just guess $<C>$ in the lexical order. In the check phase, let $V$ accept if $<C>$ is the computational history string that eventually accepts $w$; else, reject."
   ]
  }
 ],
 "metadata": {
  "kernelspec": {
   "display_name": "Python 3",
   "language": "python",
   "name": "python3"
  },
  "language_info": {
   "codemirror_mode": {
    "name": "ipython",
    "version": 3
   },
   "file_extension": ".py",
   "mimetype": "text/x-python",
   "name": "python",
   "nbconvert_exporter": "python",
   "pygments_lexer": "ipython3",
   "version": "3.6.6"
  }
 },
 "nbformat": 4,
 "nbformat_minor": 2
}
